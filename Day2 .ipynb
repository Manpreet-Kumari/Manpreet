{
 "cells": [
  {
   "cell_type": "code",
   "execution_count": 3,
   "id": "27ce6f42-00ca-4924-9203-f9b2795d4238",
   "metadata": {},
   "outputs": [],
   "source": [
    "for i in range (1 , 11):\n",
    "    pass"
   ]
  },
  {
   "cell_type": "code",
   "execution_count": 2,
   "id": "145e09cb-bada-4399-96f0-e3466746966b",
   "metadata": {},
   "outputs": [
    {
     "name": "stdout",
     "output_type": "stream",
     "text": [
      "Second largest number is: 67\n"
     ]
    }
   ],
   "source": [
    "numbers = [10, 45, 32, 57, 89, 67]\n",
    "\n",
    "unique = list(set(numbers))\n",
    "\n",
    "unique.remove(max(unique))\n",
    "print(\"Second largest number is:\", max(unique))\n"
   ]
  },
  {
   "cell_type": "code",
   "execution_count": 3,
   "id": "f6e424ca-b10e-494a-8152-fde789f79763",
   "metadata": {},
   "outputs": [
    {
     "name": "stdout",
     "output_type": "stream",
     "text": [
      "Present Students: ['Amit', 'Riya', 'Priya']\n"
     ]
    }
   ],
   "source": [
    "all_students = [\"Amit\", \"Riya\", \"Sohan\", \"Priya\", \"Neha\"]\n",
    "absent_students = [\"Sohan\", \"Neha\"]\n",
    "\n",
    "# Create present list\n",
    "present_students = []\n",
    "\n",
    "for student in all_students:\n",
    "    if student not in absent_students:\n",
    "        present_students.append(student)\n",
    "\n",
    "print(\"Present Students:\", present_students)\n"
   ]
  },
  {
   "cell_type": "code",
   "execution_count": 1,
   "id": "f8c44ab0-b729-4044-8b8c-bae06022e959",
   "metadata": {},
   "outputs": [
    {
     "name": "stdout",
     "output_type": "stream",
     "text": [
      "54321\n"
     ]
    }
   ],
   "source": [
    "num = 12345\n",
    "rev = 0\n",
    "\n",
    "while num > 0:\n",
    "    digit = num % 10         \n",
    "    rev = rev * 10 + digit   \n",
    "    num = num // 10         \n",
    "\n",
    "print(rev)\n"
   ]
  },
  {
   "cell_type": "code",
   "execution_count": 2,
   "id": "5a8539e9-9909-4f2a-b600-88d594fdc4b9",
   "metadata": {},
   "outputs": [
    {
     "name": "stdout",
     "output_type": "stream",
     "text": [
      "[1, 20, 30, 40, 5]\n"
     ]
    }
   ],
   "source": [
    "arr = [1, 2, 3, 4, 5]\n",
    "arr[1:4] = [20, 30, 40] \n",
    "print(arr)  \n"
   ]
  },
  {
   "cell_type": "code",
   "execution_count": 2,
   "id": "54c29586-dfd3-4de6-8453-bcd840d06b82",
   "metadata": {},
   "outputs": [
    {
     "name": "stdout",
     "output_type": "stream",
     "text": [
      "cdefgh\n",
      "abcde\n",
      "uvwxyz\n",
      "acegi\n"
     ]
    }
   ],
   "source": [
    "s = \"abcdefghijklmnopqrstuvwxyz\"\n",
    "\n",
    "print(s[2:8])           \n",
    "\n",
    "print(s[:5])            \n",
    "\n",
    "print(s[20:])          \n",
    "\n",
    "print(s[0:10:2])      \n"
   ]
  },
  {
   "cell_type": "code",
   "execution_count": 3,
   "id": "033a8856-8a48-4656-9ff5-1ab334b60eac",
   "metadata": {},
   "outputs": [
    {
     "name": "stdout",
     "output_type": "stream",
     "text": [
      "zyxwvutsrqponmlkjihgfedcba\n",
      "vwxy\n",
      "xvtrpnljhfdb\n"
     ]
    }
   ],
   "source": [
    "print(s[-5:-1])        \n",
    "\n",
    "print(s[-3::-2])       "
   ]
  },
  {
   "cell_type": "code",
   "execution_count": 4,
   "id": "8adf53c9-66be-4ce2-b0b0-232a19c7930a",
   "metadata": {},
   "outputs": [
    {
     "name": "stdout",
     "output_type": "stream",
     "text": [
      "First element: 10\n",
      "Last element: 50\n",
      "Slice [1:4]: [20, 30, 40]\n",
      "Reversed: [50, 40, 30, 20, 10]\n",
      "After append 60: [10, 20, 30, 40, 50, 60]\n",
      "After extend [70, 80]: [10, 20, 30, 40, 50, 60, 70, 80]\n",
      "Element at index 2: 30\n",
      "Last 3 elements: [60, 70, 80]\n"
     ]
    }
   ],
   "source": [
    "# Initial list\n",
    "nums = [10, 20, 30, 40, 50]\n",
    "\n",
    "print(\"First element:\", nums[0])      \n",
    "print(\"Last element:\", nums[-1])      \n",
    "\n",
    "# 2️⃣ Slicing\n",
    "print(\"Slice [1:4]:\", nums[1:4])    \n",
    "print(\"Reversed:\", nums[::-1])        \n",
    "\n",
    "nums.append(60)\n",
    "print(\"After append 60:\", nums)      \n",
    "\n",
    "nums.extend([70, 80])\n",
    "print(\"After extend [70, 80]:\", nums) \n",
    "\n",
    "print(\"Element at index 2:\", nums[2])\n",
    "print(\"Last 3 elements:\", nums[-3:])  \n"
   ]
  },
  {
   "cell_type": "code",
   "execution_count": null,
   "id": "23cf3aa3-0b7f-48dc-84b4-05f382f99362",
   "metadata": {},
   "outputs": [],
   "source": [
    "nums.insert(2, 25)  \n",
    "print(\"After insert 25 at index 2:\", nums)\n",
    "\n",
    "nums.remove(40)    \n",
    "print(\"After remove 40:\", nums)\n",
    "\n",
    "popped = nums.pop(3) \n",
    "print(\"Popped element at index 3:\", popped)\n",
    "print(\"List now:\", nums)\n",
    "\n",
    "value_to_remove = 999\n",
    "if value_to_remove in nums:\n",
    "    nums.remove(value_to_remove)\n",
    "else:\n",
    "    print(f\"{value_to_remove} not found, cannot remove.\")\n",
    "\n",
    "print(\"Element at index 2:\", nums[2])\n",
    "print(\"Last 3 elements:\", nums[-3:])"
   ]
  }
 ],
 "metadata": {
  "kernelspec": {
   "display_name": "Python [conda env:base] *",
   "language": "python",
   "name": "conda-base-py"
  },
  "language_info": {
   "codemirror_mode": {
    "name": "ipython",
    "version": 3
   },
   "file_extension": ".py",
   "mimetype": "text/x-python",
   "name": "python",
   "nbconvert_exporter": "python",
   "pygments_lexer": "ipython3",
   "version": "3.12.7"
  }
 },
 "nbformat": 4,
 "nbformat_minor": 5
}
