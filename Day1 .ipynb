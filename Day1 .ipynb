{
 "cells": [
  {
   "cell_type": "code",
   "execution_count": 10,
   "id": "395ab998-6c6b-444b-b5b0-71198768681c",
   "metadata": {},
   "outputs": [
    {
     "name": "stdout",
     "output_type": "stream",
     "text": [
      "Sum of digits: 10\n"
     ]
    }
   ],
   "source": [
    "num = 1234\n",
    "sum_of_digits = 0\n",
    "\n",
    "while num > 0:\n",
    "    digit = num % 10         # Get last digit\n",
    "    sum_of_digits += digit   # Add it to the sum\n",
    "    num = num // 10          # Remove last digit\n",
    "\n",
    "print(\"Sum of digits:\", sum_of_digits)"
   ]
  },
  {
   "cell_type": "code",
   "execution_count": 11,
   "id": "618200e1-29b2-4c16-b99d-0b81f2e1a64a",
   "metadata": {},
   "outputs": [
    {
     "name": "stdout",
     "output_type": "stream",
     "text": [
      "sum 10\n"
     ]
    }
   ],
   "source": [
    "a=1\n",
    "b=2\n",
    "c=3\n",
    "d=4\n",
    "total = a+b+c+d \n",
    "\n",
    "print (\"sum\" , total )\n"
   ]
  },
  {
   "cell_type": "code",
   "execution_count": 21,
   "id": "63de54a8-68ac-4a8d-9afd-7c1c346fb0a7",
   "metadata": {},
   "outputs": [
    {
     "name": "stdout",
     "output_type": "stream",
     "text": [
      "b is greater than   34\n"
     ]
    }
   ],
   "source": [
    "a= 23\n",
    "b= 34\n",
    "c = 25\n",
    "if a >= b and a >= c:\n",
    "    print (\"a is greater than \",a)\n",
    "elif b >= a and b >= c :\n",
    "    print (\"b is greater than  \",b)\n",
    "else: \n",
    "    print (\"c is greater than  \",c) "
   ]
  },
  {
   "cell_type": "code",
   "execution_count": 11,
   "id": "b751bea8-c4f0-4a7c-87df-7b8428b16e90",
   "metadata": {},
   "outputs": [
    {
     "name": "stdin",
     "output_type": "stream",
     "text": [
      "Enter three sides separated by space:  4 2 7\n"
     ]
    },
    {
     "name": "stdout",
     "output_type": "stream",
     "text": [
      "it does not form a triangle \n"
     ]
    }
   ],
   "source": [
    "a, b, c = map(int, input(\"Enter three sides separated by space: \").split())  \n",
    "if(a+b>c and a+c>b  and b+c>a ):\n",
    "    print(\"it form a triangle \")\n",
    "else:\n",
    "    print(\"it does not form a triangle \")\n",
    "\n"
   ]
  },
  {
   "cell_type": "code",
   "execution_count": 9,
   "id": "7807718f-33e8-49f9-a54f-1fef681e79fd",
   "metadata": {},
   "outputs": [
    {
     "name": "stdin",
     "output_type": "stream",
     "text": [
      "Enter the selling prize and Enter the cost prize seprated by space : 23 23\n"
     ]
    },
    {
     "name": "stdout",
     "output_type": "stream",
     "text": [
      "you are in nor loss neither profit \n"
     ]
    }
   ],
   "source": [
    "a,b = map(int,input(\"Enter the selling prize and Enter the cost prize seprated by space :\").split())\n",
    "sp = a \n",
    "cp = b\n",
    "if sp < cp:\n",
    "    print (\"you are in loss \", cp-sp)\n",
    "elif cp < sp:\n",
    "    print(\"you are in profit \", sp-cp)\n",
    "else:\n",
    "    print(\"you are in nor loss neither profit \")\n",
    "    "
   ]
  },
  {
   "cell_type": "code",
   "execution_count": 11,
   "id": "75f81715-f5fe-470b-8a42-ca55b5a2766b",
   "metadata": {},
   "outputs": [
    {
     "name": "stdin",
     "output_type": "stream",
     "text": [
      "Enter a number:  153\n"
     ]
    },
    {
     "name": "stdout",
     "output_type": "stream",
     "text": [
      "153 is an Armstrong number\n"
     ]
    }
   ],
   "source": [
    "\n",
    "num = int(input(\"Enter a number: \"))\n",
    "original = num\n",
    "power = len(str(num))\n",
    "sum_of_powers = 0\n",
    "temp = num\n",
    "\n",
    "while temp > 0:\n",
    "    digit = temp % 10\n",
    "    sum_of_powers += digit ** power\n",
    "    temp = temp // 10\n",
    "\n",
    "if sum_of_powers == original:\n",
    "    print(original, \"is an Armstrong number\")\n",
    "else:\n",
    "    print(original, \"is NOT an Armstrong number\")\n",
    "\n",
    "      "
   ]
  }
 ],
 "metadata": {
  "kernelspec": {
   "display_name": "Python [conda env:base] *",
   "language": "python",
   "name": "conda-base-py"
  },
  "language_info": {
   "codemirror_mode": {
    "name": "ipython",
    "version": 3
   },
   "file_extension": ".py",
   "mimetype": "text/x-python",
   "name": "python",
   "nbconvert_exporter": "python",
   "pygments_lexer": "ipython3",
   "version": "3.12.7"
  }
 },
 "nbformat": 4,
 "nbformat_minor": 5
}
